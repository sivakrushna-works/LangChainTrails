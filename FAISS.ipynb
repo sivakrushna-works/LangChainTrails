{
 "cells": [
  {
   "cell_type": "markdown",
   "metadata": {},
   "source": [
    "### Faiss vector store Db"
   ]
  },
  {
   "cell_type": "code",
   "execution_count": 1,
   "metadata": {},
   "outputs": [],
   "source": [
    "from langchain_community.document_loaders import TextLoader\n",
    "from langchain_text_splitters import CharacterTextSplitter\n",
    "from langchain_huggingface import HuggingFaceEmbeddings\n",
    "from langchain_community.vectorstores import FAISS"
   ]
  },
  {
   "cell_type": "code",
   "execution_count": 4,
   "metadata": {},
   "outputs": [
    {
     "name": "stderr",
     "output_type": "stream",
     "text": [
      "Created a chunk of size 324, which is longer than the specified 200\n",
      "Created a chunk of size 652, which is longer than the specified 200\n",
      "Created a chunk of size 210, which is longer than the specified 200\n",
      "c:\\Others\\Work\\Projects\\GenAI\\LangChainTrails\\venv\\lib\\site-packages\\tqdm\\auto.py:21: TqdmWarning: IProgress not found. Please update jupyter and ipywidgets. See https://ipywidgets.readthedocs.io/en/stable/user_install.html\n",
      "  from .autonotebook import tqdm as notebook_tqdm\n"
     ]
    }
   ],
   "source": [
    "loader = TextLoader(\"speech.txt\")\n",
    "docs = loader.load()\n",
    "\n",
    "splitter = CharacterTextSplitter(chunk_size=200, chunk_overlap=20)\n",
    "final_docs = splitter.split_documents(docs)\n",
    "\n",
    "embedding = HuggingFaceEmbeddings(model_name=\"all-MiniLM-L6-v2\")\n",
    "\n",
    "db = FAISS.from_documents(final_docs, embedding)\n",
    "\n"
   ]
  },
  {
   "cell_type": "code",
   "execution_count": 5,
   "metadata": {},
   "outputs": [
    {
     "data": {
      "text/plain": [
       "[Document(id='28c1fed6-889d-4772-a924-820ff1701e10', metadata={'source': 'speech.txt'}, page_content=\"LangChain is a software framework that helps facilitate the integration of large language models (LLMs) into applications. As a language model integration framework, LangChain's use-cases largely overlap with those of language models in general, including document analysis and summarization, chatbots, and code analysis.[2]\"),\n",
       " Document(id='f9922a9e-9433-4f0b-9132-b08db75299fb', metadata={'source': 'speech.txt'}, page_content=\"History\\nLangChain was launched in October 2022 as an open source project by Harrison Chase, while working at machine learning startup Robust Intelligence. The project quickly garnered popularity,[3] with improvements from hundreds of contributors on GitHub, trending discussions on Twitter, lively activity on the project's Discord server, many YouTube tutorials, and meetups in San Francisco and London. In April 2023, LangChain had incorporated and the new startup raised over $20 million in funding at a valuation of at least $200 million from venture firm Sequoia Capital, a week after announcing a $10 million seed investment from Benchmark.[4][5]\"),\n",
       " Document(id='d2596266-ca47-445c-9da3-ae52a34bb3be', metadata={'source': 'speech.txt'}, page_content='In the third quarter of 2023, the LangChain Expression Language (LCEL) was introduced, which provides a declarative way to define chains of actions.[6][7]'),\n",
       " Document(id='53be8d9d-be23-45b9-a605-723524388235', metadata={'source': 'speech.txt'}, page_content='In October 2023 LangChain introduced LangServe, a deployment tool to host LCEL code as a production-ready API.[8]')]"
      ]
     },
     "execution_count": 5,
     "metadata": {},
     "output_type": "execute_result"
    }
   ],
   "source": [
    "## quering\n",
    "\n",
    "query = \"what is langchain?\"\n",
    "\n",
    "docs = db.similarity_search(query)\n",
    "docs"
   ]
  },
  {
   "cell_type": "code",
   "execution_count": 7,
   "metadata": {},
   "outputs": [
    {
     "data": {
      "text/plain": [
       "[Document(id='28c1fed6-889d-4772-a924-820ff1701e10', metadata={'source': 'speech.txt'}, page_content=\"LangChain is a software framework that helps facilitate the integration of large language models (LLMs) into applications. As a language model integration framework, LangChain's use-cases largely overlap with those of language models in general, including document analysis and summarization, chatbots, and code analysis.[2]\"),\n",
       " Document(id='f9922a9e-9433-4f0b-9132-b08db75299fb', metadata={'source': 'speech.txt'}, page_content=\"History\\nLangChain was launched in October 2022 as an open source project by Harrison Chase, while working at machine learning startup Robust Intelligence. The project quickly garnered popularity,[3] with improvements from hundreds of contributors on GitHub, trending discussions on Twitter, lively activity on the project's Discord server, many YouTube tutorials, and meetups in San Francisco and London. In April 2023, LangChain had incorporated and the new startup raised over $20 million in funding at a valuation of at least $200 million from venture firm Sequoia Capital, a week after announcing a $10 million seed investment from Benchmark.[4][5]\"),\n",
       " Document(id='d2596266-ca47-445c-9da3-ae52a34bb3be', metadata={'source': 'speech.txt'}, page_content='In the third quarter of 2023, the LangChain Expression Language (LCEL) was introduced, which provides a declarative way to define chains of actions.[6][7]'),\n",
       " Document(id='53be8d9d-be23-45b9-a605-723524388235', metadata={'source': 'speech.txt'}, page_content='In October 2023 LangChain introduced LangServe, a deployment tool to host LCEL code as a production-ready API.[8]')]"
      ]
     },
     "execution_count": 7,
     "metadata": {},
     "output_type": "execute_result"
    }
   ],
   "source": [
    "# As a retriever\n",
    "\n",
    "retriever = db.as_retriever()\n",
    "docs = retriever.invoke(query)\n",
    "docs"
   ]
  },
  {
   "cell_type": "code",
   "execution_count": 8,
   "metadata": {},
   "outputs": [
    {
     "data": {
      "text/plain": [
       "[(Document(id='28c1fed6-889d-4772-a924-820ff1701e10', metadata={'source': 'speech.txt'}, page_content=\"LangChain is a software framework that helps facilitate the integration of large language models (LLMs) into applications. As a language model integration framework, LangChain's use-cases largely overlap with those of language models in general, including document analysis and summarization, chatbots, and code analysis.[2]\"),\n",
       "  np.float32(0.74049544)),\n",
       " (Document(id='f9922a9e-9433-4f0b-9132-b08db75299fb', metadata={'source': 'speech.txt'}, page_content=\"History\\nLangChain was launched in October 2022 as an open source project by Harrison Chase, while working at machine learning startup Robust Intelligence. The project quickly garnered popularity,[3] with improvements from hundreds of contributors on GitHub, trending discussions on Twitter, lively activity on the project's Discord server, many YouTube tutorials, and meetups in San Francisco and London. In April 2023, LangChain had incorporated and the new startup raised over $20 million in funding at a valuation of at least $200 million from venture firm Sequoia Capital, a week after announcing a $10 million seed investment from Benchmark.[4][5]\"),\n",
       "  np.float32(0.8550706)),\n",
       " (Document(id='d2596266-ca47-445c-9da3-ae52a34bb3be', metadata={'source': 'speech.txt'}, page_content='In the third quarter of 2023, the LangChain Expression Language (LCEL) was introduced, which provides a declarative way to define chains of actions.[6][7]'),\n",
       "  np.float32(0.99272394)),\n",
       " (Document(id='53be8d9d-be23-45b9-a605-723524388235', metadata={'source': 'speech.txt'}, page_content='In October 2023 LangChain introduced LangServe, a deployment tool to host LCEL code as a production-ready API.[8]'),\n",
       "  np.float32(1.0752195))]"
      ]
     },
     "execution_count": 8,
     "metadata": {},
     "output_type": "execute_result"
    }
   ],
   "source": [
    "## docs with similarity search and score\n",
    "\n",
    "docs_and_score = db.similarity_search_with_score(query)\n",
    "docs_and_score"
   ]
  },
  {
   "cell_type": "code",
   "execution_count": 9,
   "metadata": {},
   "outputs": [],
   "source": [
    "## saving and laoding\n",
    "\n",
    "db.save_local(\"faiss_index\")"
   ]
  },
  {
   "cell_type": "code",
   "execution_count": null,
   "metadata": {},
   "outputs": [],
   "source": [
    "# laoding from local\n",
    "\n",
    "new_db = FAISS.load_local(\"faiss_index\", embedding, allow_dangerous_deserialization=True)"
   ]
  }
 ],
 "metadata": {
  "kernelspec": {
   "display_name": "Python 3",
   "language": "python",
   "name": "python3"
  },
  "language_info": {
   "codemirror_mode": {
    "name": "ipython",
    "version": 3
   },
   "file_extension": ".py",
   "mimetype": "text/x-python",
   "name": "python",
   "nbconvert_exporter": "python",
   "pygments_lexer": "ipython3",
   "version": "3.10.0"
  }
 },
 "nbformat": 4,
 "nbformat_minor": 2
}
